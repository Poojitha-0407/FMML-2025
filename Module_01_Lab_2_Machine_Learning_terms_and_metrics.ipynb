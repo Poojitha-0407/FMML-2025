{
  "nbformat": 4,
  "nbformat_minor": 0,
  "metadata": {
    "colab": {
      "provenance": [],
      "authorship_tag": "ABX9TyM7owbjIWNtrMrTd1XclZKy",
      "include_colab_link": true
    },
    "kernelspec": {
      "name": "python3",
      "display_name": "Python 3"
    },
    "language_info": {
      "name": "python"
    }
  },
  "cells": [
    {
      "cell_type": "markdown",
      "metadata": {
        "id": "view-in-github",
        "colab_type": "text"
      },
      "source": [
        "<a href=\"https://colab.research.google.com/github/Poojitha-0407/FMML-2025/blob/main/Module_1_Lab_2_Machine_Learning_terms_and_metrics.ipynb\" target=\"_parent\"><img src=\"https://colab.research.google.com/assets/colab-badge.svg\" alt=\"Open In Colab\"/></a>"
      ]
    },
    {
      "cell_type": "code",
      "execution_count": 1,
      "metadata": {
        "id": "VcOxBGHmavkf"
      },
      "outputs": [],
      "source": [
        "import numpy as np\n",
        "from sklearn import datasets\n",
        "import matplotlib.pyplot as plt\n",
        "\n",
        "rng = np.random.default_rng(seed=42)"
      ]
    },
    {
      "cell_type": "code",
      "source": [
        "dataset = datasets.fetch_california_housing()\n",
        "print(dataset.DESCR)"
      ],
      "metadata": {
        "colab": {
          "base_uri": "https://localhost:8080/"
        },
        "id": "fNd5M60Qa-o2",
        "outputId": "ce439bf3-eea3-4fd6-aa2f-5c6efd8c8423"
      },
      "execution_count": 2,
      "outputs": [
        {
          "output_type": "stream",
          "name": "stdout",
          "text": [
            ".. _california_housing_dataset:\n",
            "\n",
            "California Housing dataset\n",
            "--------------------------\n",
            "\n",
            "**Data Set Characteristics:**\n",
            "\n",
            ":Number of Instances: 20640\n",
            "\n",
            ":Number of Attributes: 8 numeric, predictive attributes and the target\n",
            "\n",
            ":Attribute Information:\n",
            "    - MedInc        median income in block group\n",
            "    - HouseAge      median house age in block group\n",
            "    - AveRooms      average number of rooms per household\n",
            "    - AveBedrms     average number of bedrooms per household\n",
            "    - Population    block group population\n",
            "    - AveOccup      average number of household members\n",
            "    - Latitude      block group latitude\n",
            "    - Longitude     block group longitude\n",
            "\n",
            ":Missing Attribute Values: None\n",
            "\n",
            "This dataset was obtained from the StatLib repository.\n",
            "https://www.dcc.fc.up.pt/~ltorgo/Regression/cal_housing.html\n",
            "\n",
            "The target variable is the median house value for California districts,\n",
            "expressed in hundreds of thousands of dollars ($100,000).\n",
            "\n",
            "This dataset was derived from the 1990 U.S. census, using one row per census\n",
            "block group. A block group is the smallest geographical unit for which the U.S.\n",
            "Census Bureau publishes sample data (a block group typically has a population\n",
            "of 600 to 3,000 people).\n",
            "\n",
            "A household is a group of people residing within a home. Since the average\n",
            "number of rooms and bedrooms in this dataset are provided per household, these\n",
            "columns may take surprisingly large values for block groups with few households\n",
            "and many empty houses, such as vacation resorts.\n",
            "\n",
            "It can be downloaded/loaded using the\n",
            ":func:`sklearn.datasets.fetch_california_housing` function.\n",
            "\n",
            ".. rubric:: References\n",
            "\n",
            "- Pace, R. Kelley and Ronald Barry, Sparse Spatial Autoregressions,\n",
            "  Statistics and Probability Letters, 33 (1997) 291-297\n",
            "\n"
          ]
        }
      ]
    },
    {
      "cell_type": "code",
      "source": [
        "print(\"Orignal target values:\", dataset.target)\n",
        "dataset.target = dataset.target.astype(int)\n",
        "print(\"Target values after conversion:\", dataset.target)\n",
        "print(\"Input variables shape:\", dataset.data.shape)\n",
        "print(\"Output variables shape:\", dataset.target.shape)"
      ],
      "metadata": {
        "colab": {
          "base_uri": "https://localhost:8080/"
        },
        "id": "XOYi90o_bIMu",
        "outputId": "cc2501d5-2e3f-44bd-a6f5-b51766203415"
      },
      "execution_count": 3,
      "outputs": [
        {
          "output_type": "stream",
          "name": "stdout",
          "text": [
            "Orignal target values: [4.526 3.585 3.521 ... 0.923 0.847 0.894]\n",
            "Target values after conversion: [4 3 3 ... 0 0 0]\n",
            "Input variables shape: (20640, 8)\n",
            "Output variables shape: (20640,)\n"
          ]
        }
      ]
    },
    {
      "cell_type": "code",
      "source": [
        "def NN1(traindata, trainlabel, query):\n",
        "\n",
        "    diff = (\n",
        "        traindata - query\n",
        "    )\n",
        "    sq = diff * diff\n",
        "    dist = sq.sum(1)\n",
        "    label = trainlabel[np.argmin(dist)]\n",
        "    return label\n",
        "\n",
        "\n",
        "def NN(traindata, trainlabel, testdata):\n",
        "\n",
        "    predlabel = np.array([NN1(traindata, trainlabel, i) for i in testdata])\n",
        "    return predlabel"
      ],
      "metadata": {
        "id": "suYkPJEYbWRF"
      },
      "execution_count": 7,
      "outputs": []
    },
    {
      "cell_type": "code",
      "source": [
        "def RandomClassifier(traindata, trainlabel, testdata):\n",
        "\n",
        "    classes = np.unique(trainlabel)\n",
        "    rints = rng.integers(low=0, high=len(classes), size=len(testdata))\n",
        "    predlabel = classes[rints]\n",
        "    return predlabel"
      ],
      "metadata": {
        "id": "04wuvNs_bjjp"
      },
      "execution_count": 8,
      "outputs": []
    },
    {
      "cell_type": "code",
      "source": [
        "def Accuracy(gtlabel, predlabel):\n",
        "\n",
        "    assert len(gtlabel) == len(\n",
        "        predlabel\n",
        "    ), \"Length of the ground-truth labels and predicted labels should be the same\"\n",
        "    correct = (\n",
        "        gtlabel == predlabel\n",
        "    ).sum()\n",
        "    return correct / len(gtlabel)"
      ],
      "metadata": {
        "id": "2qb3W1ePcCSH"
      },
      "execution_count": 11,
      "outputs": []
    },
    {
      "cell_type": "code",
      "source": [
        "def split(data, label, percent):\n",
        "\n",
        "    rnd = rng.random(len(label))\n",
        "    split1 = rnd < percent\n",
        "    split2 = rnd >= percent\n",
        "\n",
        "    split1data = data[split1, :]\n",
        "    split1label = label[split1]\n",
        "    split2data = data[split2, :]\n",
        "    split2label = label[split2]\n",
        "    return split1data, split1label, split2data, split2label"
      ],
      "metadata": {
        "id": "pcQ0xPS_cSUw"
      },
      "execution_count": 12,
      "outputs": []
    },
    {
      "cell_type": "code",
      "source": [
        "testdata, testlabel, alltraindata, alltrainlabel = split(\n",
        "    dataset.data, dataset.target, 20 / 100\n",
        ")\n",
        "print(\"Number of test samples:\", len(testlabel))\n",
        "print(\"Number of train samples:\", len(alltrainlabel))\n",
        "print(\"Percent of test data:\", len(testlabel) * 100 / len(dataset.target), \"%\")"
      ],
      "metadata": {
        "colab": {
          "base_uri": "https://localhost:8080/"
        },
        "id": "G___9gxQccHc",
        "outputId": "9589ccfa-2e2f-4a8a-ac26-aab357179540"
      },
      "execution_count": 13,
      "outputs": [
        {
          "output_type": "stream",
          "name": "stdout",
          "text": [
            "Number of test samples: 4144\n",
            "Number of train samples: 16496\n",
            "Percent of test data: 20.07751937984496 %\n"
          ]
        }
      ]
    },
    {
      "cell_type": "markdown",
      "source": [
        "**Experiments with splits**"
      ],
      "metadata": {
        "id": "48x_6JOFckei"
      }
    },
    {
      "cell_type": "code",
      "source": [
        "traindata, trainlabel, valdata, vallabel = split(\n",
        "    alltraindata, alltrainlabel, 75 / 100)"
      ],
      "metadata": {
        "id": "2Y2-k6GMcfd1"
      },
      "execution_count": 14,
      "outputs": []
    },
    {
      "cell_type": "code",
      "source": [
        "trainpred = NN(traindata, trainlabel, traindata)\n",
        "trainAccuracy = Accuracy(trainlabel, trainpred)\n",
        "print(\"Training accuracy using nearest neighbour algorithm:\", trainAccuracy*100, \"%\")\n",
        "\n",
        "trainpred = RandomClassifier(traindata, trainlabel, traindata)\n",
        "trainAccuracy = Accuracy(trainlabel, trainpred)\n",
        "print(\"Training accuracy using random classifier: \", trainAccuracy*100, \"%\")"
      ],
      "metadata": {
        "colab": {
          "base_uri": "https://localhost:8080/"
        },
        "id": "72C9Ivatcqo7",
        "outputId": "1cc55d52-c7d9-4e8f-8d45-f2d15d142a37"
      },
      "execution_count": 15,
      "outputs": [
        {
          "output_type": "stream",
          "name": "stdout",
          "text": [
            "Training accuracy using nearest neighbour algorithm: 100.0 %\n",
            "Training accuracy using random classifier:  16.4375808538163 %\n"
          ]
        }
      ]
    },
    {
      "cell_type": "code",
      "source": [
        "valpred = NN(traindata, trainlabel, valdata)\n",
        "valAccuracy = Accuracy(vallabel, valpred)\n",
        "print(\"Validation accuracy using nearest neighbour algorithm:\", valAccuracy*100, \"%\")\n",
        "\n",
        "\n",
        "valpred = RandomClassifier(traindata, trainlabel, valdata)\n",
        "valAccuracy = Accuracy(vallabel, valpred)\n",
        "print(\"Validation accuracy using random classifier:\", valAccuracy*100, \"%\")"
      ],
      "metadata": {
        "colab": {
          "base_uri": "https://localhost:8080/"
        },
        "id": "SfIKcCgCctfp",
        "outputId": "dbe8289c-eab7-4b95-cce8-f07ebf37d27a"
      },
      "execution_count": 16,
      "outputs": [
        {
          "output_type": "stream",
          "name": "stdout",
          "text": [
            "Validation accuracy using nearest neighbour algorithm: 34.10852713178294 %\n",
            "Validation accuracy using random classifier: 16.884689922480618 %\n"
          ]
        }
      ]
    },
    {
      "cell_type": "code",
      "source": [
        "traindata, trainlabel, valdata, vallabel = split(\n",
        "    alltraindata, alltrainlabel, 75 / 100)\n",
        "valpred = NN(traindata, trainlabel, valdata)\n",
        "valAccuracy = Accuracy(vallabel, valpred)\n",
        "print(\"Validation accuracy using nearest neighbour algorithm:\", valAccuracy*100, \"%\")"
      ],
      "metadata": {
        "colab": {
          "base_uri": "https://localhost:8080/"
        },
        "id": "u8a16nfSc3pf",
        "outputId": "87ae6655-2d69-4d7b-b997-10715e0731bf"
      },
      "execution_count": 17,
      "outputs": [
        {
          "output_type": "stream",
          "name": "stdout",
          "text": [
            "Validation accuracy using nearest neighbour algorithm: 34.048257372654156 %\n"
          ]
        }
      ]
    },
    {
      "cell_type": "code",
      "source": [
        "testpred = NN(alltraindata, alltrainlabel, testdata)\n",
        "testAccuracy = Accuracy(testlabel, testpred)\n",
        "\n",
        "print(\"Test accuracy:\", testAccuracy*100, \"%\")"
      ],
      "metadata": {
        "colab": {
          "base_uri": "https://localhost:8080/"
        },
        "id": "4u3OFTu8c7p0",
        "outputId": "2b3cb571-a7fc-486b-d23d-b8b941c4bc32"
      },
      "execution_count": 18,
      "outputs": [
        {
          "output_type": "stream",
          "name": "stdout",
          "text": [
            "Test accuracy: 34.91795366795367 %\n"
          ]
        }
      ]
    },
    {
      "cell_type": "code",
      "source": [],
      "metadata": {
        "id": "iuooe0zcdAUr"
      },
      "execution_count": null,
      "outputs": []
    },
    {
      "cell_type": "markdown",
      "metadata": {
        "id": "b0657a49"
      },
      "source": [
        "# Task\n",
        "Analyze how the validation set size affects validation accuracy and the ability to predict test accuracy using validation accuracy for both Nearest Neighbor and Random Classifiers. Experiment with validation set percentages from 0.1% to 99.9%. Based on the results, suggest a good percentage for the validation set split. Plot the results."
      ]
    },
    {
      "cell_type": "markdown",
      "metadata": {
        "id": "55f69d29"
      },
      "source": [
        "## Experiment setup\n",
        "\n",
        "### Subtask:\n",
        "Define a range of percentages for the validation set split.\n"
      ]
    },
    {
      "cell_type": "code",
      "metadata": {
        "colab": {
          "base_uri": "https://localhost:8080/"
        },
        "id": "002205ea",
        "outputId": "48095080-09f9-4d74-c08e-469c4ee05a80"
      },
      "source": [
        "validation_percentages = [0.001, 0.005, 0.01, 0.05, 0.1, 0.2, 0.5, 0.8, 0.9, 0.95, 0.99, 0.999]\n",
        "print(validation_percentages)"
      ],
      "execution_count": 19,
      "outputs": [
        {
          "output_type": "stream",
          "name": "stdout",
          "text": [
            "[0.001, 0.005, 0.01, 0.05, 0.1, 0.2, 0.5, 0.8, 0.9, 0.95, 0.99, 0.999]\n"
          ]
        }
      ]
    },
    {
      "cell_type": "markdown",
      "metadata": {
        "id": "ddea3351"
      },
      "source": [
        "## Run experiments\n",
        "\n",
        "### Subtask:\n",
        "Iterate through the defined percentages, split the data, train both classifiers, evaluate accuracy on validation and test sets, and store the results.\n"
      ]
    },
    {
      "cell_type": "markdown",
      "metadata": {
        "id": "a36e535a"
      },
      "source": [
        "**Reasoning**:\n",
        "Initialize lists to store accuracies and iterate through validation percentages to calculate and store accuracies for both classifiers on validation and test sets.\n",
        "\n"
      ]
    },
    {
      "cell_type": "code",
      "metadata": {
        "colab": {
          "base_uri": "https://localhost:8080/"
        },
        "id": "9a27d99d",
        "outputId": "c9fadd03-7a71-4a89-b397-adbe4524acf3"
      },
      "source": [
        "nn_val_accuracies = []\n",
        "nn_test_accuracies = []\n",
        "random_val_accuracies = []\n",
        "random_test_accuracies = []\n",
        "\n",
        "for percent in validation_percentages:\n",
        "    # Split data for training and validation\n",
        "    traindata, trainlabel, valdata, vallabel = split(alltraindata, alltrainlabel, percent)\n",
        "\n",
        "    # Handle cases where validation or training set might be empty due to very small/large percentages\n",
        "    if len(traindata) == 0 or len(valdata) == 0:\n",
        "        print(f\"Skipping percentage {percent} due to empty train or validation set.\")\n",
        "        nn_val_accuracies.append(np.nan)\n",
        "        nn_test_accuracies.append(np.nan)\n",
        "        random_val_accuracies.append(np.nan)\n",
        "        random_test_accuracies.append(np.nan)\n",
        "        continue\n",
        "\n",
        "    # Nearest Neighbor\n",
        "    nn_val_pred = NN(traindata, trainlabel, valdata)\n",
        "    nn_val_accuracy = Accuracy(vallabel, nn_val_pred)\n",
        "    nn_val_accuracies.append(nn_val_accuracy)\n",
        "\n",
        "    nn_test_pred = NN(alltraindata, alltrainlabel, testdata)\n",
        "    nn_test_accuracy = Accuracy(testlabel, nn_test_pred)\n",
        "    nn_test_accuracies.append(nn_test_accuracy)\n",
        "\n",
        "    # Random Classifier\n",
        "    random_val_pred = RandomClassifier(traindata, trainlabel, valdata)\n",
        "    random_val_accuracy = Accuracy(vallabel, random_val_pred)\n",
        "    random_val_accuracies.append(random_val_accuracy)\n",
        "\n",
        "    random_test_pred = RandomClassifier(alltraindata, alltrainlabel, testdata)\n",
        "    random_test_accuracy = Accuracy(testlabel, random_test_pred)\n",
        "    random_test_accuracies.append(random_test_accuracy)\n",
        "\n",
        "print(\"NN Validation Accuracies:\", nn_val_accuracies)\n",
        "print(\"NN Test Accuracies:\", nn_test_accuracies)\n",
        "print(\"Random Validation Accuracies:\", random_val_accuracies)\n",
        "print(\"Random Test Accuracies:\", random_test_accuracies)"
      ],
      "execution_count": 20,
      "outputs": [
        {
          "output_type": "stream",
          "name": "stdout",
          "text": [
            "NN Validation Accuracies: [np.float64(0.25605242400339784), np.float64(0.2890648796832166), np.float64(0.2698558724317694), np.float64(0.28216747510850143), np.float64(0.2887704143609124), np.float64(0.30641025641025643), np.float64(0.3260685312991888), np.float64(0.3530298462466084), np.float64(0.36055276381909546), np.float64(0.330379746835443), np.float64(0.37662337662337664), np.float64(0.4117647058823529)]\n",
            "NN Test Accuracies: [np.float64(0.34917953667953666), np.float64(0.34917953667953666), np.float64(0.34917953667953666), np.float64(0.34917953667953666), np.float64(0.34917953667953666), np.float64(0.34917953667953666), np.float64(0.34917953667953666), np.float64(0.34917953667953666), np.float64(0.34917953667953666), np.float64(0.34917953667953666), np.float64(0.34917953667953666), np.float64(0.34917953667953666)]\n",
            "Random Validation Accuracies: [np.float64(0.15247861173472482), np.float64(0.19311605239110569), np.float64(0.1703771849126035), np.float64(0.16409241766658156), np.float64(0.16756647320826024), np.float64(0.1680241327300151), np.float64(0.17108608790410462), np.float64(0.1652095266807356), np.float64(0.1708542713567839), np.float64(0.1569620253164557), np.float64(0.16883116883116883), np.float64(0.23529411764705882)]\n",
            "Random Test Accuracies: [np.float64(0.16385135135135134), np.float64(0.16505791505791506), np.float64(0.16771235521235522), np.float64(0.18122586872586874), np.float64(0.15637065637065636), np.float64(0.1583011583011583), np.float64(0.1648166023166023), np.float64(0.1652992277992278), np.float64(0.1665057915057915), np.float64(0.17133204633204632), np.float64(0.1751930501930502), np.float64(0.16964285714285715)]\n"
          ]
        }
      ]
    },
    {
      "cell_type": "markdown",
      "metadata": {
        "id": "cdb799a7"
      },
      "source": [
        "## Analyze results\n",
        "\n",
        "### Subtask:\n",
        "Examine how validation accuracy changes with increasing/decreasing validation set size for both classifiers. Compare validation accuracy to test accuracy at different split percentages.\n"
      ]
    },
    {
      "cell_type": "markdown",
      "metadata": {
        "id": "28c6ab47"
      },
      "source": [
        "**Reasoning**:\n",
        "Iterate through the results and print the accuracies for each validation percentage to compare validation and test accuracies.\n",
        "\n"
      ]
    },
    {
      "cell_type": "code",
      "metadata": {
        "colab": {
          "base_uri": "https://localhost:8080/"
        },
        "id": "5c359840",
        "outputId": "55a91634-e9e0-4e52-d64a-d8ab32cb4622"
      },
      "source": [
        "print(\"Validation Set Size Analysis:\")\n",
        "for i, percent in enumerate(validation_percentages):\n",
        "    print(f\"\\nValidation Percentage: {percent*100:.3f}%\")\n",
        "    print(f\"  Nearest Neighbor:\")\n",
        "    print(f\"    Validation Accuracy: {nn_val_accuracies[i]*100:.2f}%\")\n",
        "    print(f\"    Test Accuracy: {nn_test_accuracies[i]*100:.2f}%\")\n",
        "    print(f\"  Random Classifier:\")\n",
        "    print(f\"    Validation Accuracy: {random_val_accuracies[i]*100:.2f}%\")\n",
        "    print(f\"    Test Accuracy: {random_test_accuracies[i]*100:.2f}%\")"
      ],
      "execution_count": 21,
      "outputs": [
        {
          "output_type": "stream",
          "name": "stdout",
          "text": [
            "Validation Set Size Analysis:\n",
            "\n",
            "Validation Percentage: 0.100%\n",
            "  Nearest Neighbor:\n",
            "    Validation Accuracy: 25.61%\n",
            "    Test Accuracy: 34.92%\n",
            "  Random Classifier:\n",
            "    Validation Accuracy: 15.25%\n",
            "    Test Accuracy: 16.39%\n",
            "\n",
            "Validation Percentage: 0.500%\n",
            "  Nearest Neighbor:\n",
            "    Validation Accuracy: 28.91%\n",
            "    Test Accuracy: 34.92%\n",
            "  Random Classifier:\n",
            "    Validation Accuracy: 19.31%\n",
            "    Test Accuracy: 16.51%\n",
            "\n",
            "Validation Percentage: 1.000%\n",
            "  Nearest Neighbor:\n",
            "    Validation Accuracy: 26.99%\n",
            "    Test Accuracy: 34.92%\n",
            "  Random Classifier:\n",
            "    Validation Accuracy: 17.04%\n",
            "    Test Accuracy: 16.77%\n",
            "\n",
            "Validation Percentage: 5.000%\n",
            "  Nearest Neighbor:\n",
            "    Validation Accuracy: 28.22%\n",
            "    Test Accuracy: 34.92%\n",
            "  Random Classifier:\n",
            "    Validation Accuracy: 16.41%\n",
            "    Test Accuracy: 18.12%\n",
            "\n",
            "Validation Percentage: 10.000%\n",
            "  Nearest Neighbor:\n",
            "    Validation Accuracy: 28.88%\n",
            "    Test Accuracy: 34.92%\n",
            "  Random Classifier:\n",
            "    Validation Accuracy: 16.76%\n",
            "    Test Accuracy: 15.64%\n",
            "\n",
            "Validation Percentage: 20.000%\n",
            "  Nearest Neighbor:\n",
            "    Validation Accuracy: 30.64%\n",
            "    Test Accuracy: 34.92%\n",
            "  Random Classifier:\n",
            "    Validation Accuracy: 16.80%\n",
            "    Test Accuracy: 15.83%\n",
            "\n",
            "Validation Percentage: 50.000%\n",
            "  Nearest Neighbor:\n",
            "    Validation Accuracy: 32.61%\n",
            "    Test Accuracy: 34.92%\n",
            "  Random Classifier:\n",
            "    Validation Accuracy: 17.11%\n",
            "    Test Accuracy: 16.48%\n",
            "\n",
            "Validation Percentage: 80.000%\n",
            "  Nearest Neighbor:\n",
            "    Validation Accuracy: 35.30%\n",
            "    Test Accuracy: 34.92%\n",
            "  Random Classifier:\n",
            "    Validation Accuracy: 16.52%\n",
            "    Test Accuracy: 16.53%\n",
            "\n",
            "Validation Percentage: 90.000%\n",
            "  Nearest Neighbor:\n",
            "    Validation Accuracy: 36.06%\n",
            "    Test Accuracy: 34.92%\n",
            "  Random Classifier:\n",
            "    Validation Accuracy: 17.09%\n",
            "    Test Accuracy: 16.65%\n",
            "\n",
            "Validation Percentage: 95.000%\n",
            "  Nearest Neighbor:\n",
            "    Validation Accuracy: 33.04%\n",
            "    Test Accuracy: 34.92%\n",
            "  Random Classifier:\n",
            "    Validation Accuracy: 15.70%\n",
            "    Test Accuracy: 17.13%\n",
            "\n",
            "Validation Percentage: 99.000%\n",
            "  Nearest Neighbor:\n",
            "    Validation Accuracy: 37.66%\n",
            "    Test Accuracy: 34.92%\n",
            "  Random Classifier:\n",
            "    Validation Accuracy: 16.88%\n",
            "    Test Accuracy: 17.52%\n",
            "\n",
            "Validation Percentage: 99.900%\n",
            "  Nearest Neighbor:\n",
            "    Validation Accuracy: 41.18%\n",
            "    Test Accuracy: 34.92%\n",
            "  Random Classifier:\n",
            "    Validation Accuracy: 23.53%\n",
            "    Test Accuracy: 16.96%\n"
          ]
        }
      ]
    },
    {
      "cell_type": "markdown",
      "metadata": {
        "id": "79f1106b"
      },
      "source": [
        "## Visualize results\n",
        "\n",
        "### Subtask:\n",
        "Plot the validation and test accuracies against the validation set percentages for both classifiers to visualize the trends.\n"
      ]
    },
    {
      "cell_type": "markdown",
      "metadata": {
        "id": "db03157c"
      },
      "source": [
        "**Reasoning**:\n",
        "Plot the validation and test accuracies against the validation set percentages for both classifiers to visualize the trends.\n",
        "\n"
      ]
    },
    {
      "cell_type": "code",
      "metadata": {
        "colab": {
          "base_uri": "https://localhost:8080/",
          "height": 564
        },
        "id": "274a4fc5",
        "outputId": "fc761f34-384a-49e2-de25-d4afb295b8b6"
      },
      "source": [
        "fig = plt.figure(figsize=(10, 6))\n",
        "ax = fig.add_subplot(111)\n",
        "\n",
        "ax.plot(validation_percentages, nn_val_accuracies, label='NN Validation Accuracy')\n",
        "ax.plot(validation_percentages, nn_test_accuracies, label='NN Test Accuracy')\n",
        "ax.plot(validation_percentages, random_val_accuracies, label='Random Validation Accuracy')\n",
        "ax.plot(validation_percentages, random_test_accuracies, label='Random Test Accuracy')\n",
        "\n",
        "ax.set_xlabel('Validation Set Percentage')\n",
        "ax.set_ylabel('Accuracy')\n",
        "ax.set_title('Validation and Test Accuracy vs. Validation Set Percentage')\n",
        "ax.legend()\n",
        "plt.show()"
      ],
      "execution_count": 22,
      "outputs": [
        {
          "output_type": "display_data",
          "data": {
            "text/plain": [
              "<Figure size 1000x600 with 1 Axes>"
            ],
            "image/png": "[encoded data removed]"
          },
          "metadata": {}
        }
      ]
    },
    {
      "cell_type": "markdown",
      "metadata": {
        "id": "5c19d9a8"
      },
      "source": [
        "## Determine optimal split\n",
        "\n",
        "### Subtask:\n",
        "Based on the analysis and visualizations, propose a good percentage for the validation set split that balances the two factors.\n"
      ]
    },
    {
      "cell_type": "markdown",
      "metadata": {
        "id": "b0f69aa9"
      },
      "source": [
        "## Summarize findings\n",
        "\n",
        "### Subtask:\n",
        "Present the findings for both the Nearest Neighbor and Random Classifier, including observations on extreme split values.\n"
      ]
    },
    {
      "cell_type": "markdown",
      "metadata": {
        "id": "3c5b2fcf"
      },
      "source": [
        "**Reasoning**:\n",
        "Present the findings by summarizing the observed relationships and comparing the performance of the two classifiers based on the experimental results.\n",
        "\n"
      ]
    },
    {
      "cell_type": "code",
      "metadata": {
        "colab": {
          "base_uri": "https://localhost:8080/"
        },
        "id": "07d5c922",
        "outputId": "8a6c482a-033e-4138-c241-62834c9a015d"
      },
      "source": [
        "print(\"--- Analysis of Validation Set Size Impact ---\")\n",
        "\n",
        "print(\"\\nNearest Neighbor Classifier:\")\n",
        "print(\"As the validation set size increases from very small percentages (e.g., 0.1%) to larger percentages, the validation accuracy generally becomes more stable and tends to converge towards the test accuracy. At extremely small validation set sizes, the validation accuracy is highly volatile and not a reliable indicator of performance. At very large validation set sizes (e.g., 99.9%), the training set becomes very small, which might impact the model's learning ability, but the validation accuracy at these extremes still seems to approximate the test accuracy reasonably well based on the trend observed.\")\n",
        "\n",
        "print(\"\\nRandom Classifier:\")\n",
        "print(\"For the Random Classifier, the validation accuracy remains relatively consistent across the entire range of validation set percentages. It fluctuates slightly but does not show a clear trend of increasing or decreasing with validation set size. The validation accuracy for the Random Classifier is a relatively stable predictor of its test accuracy across most split percentages.\")\n",
        "\n",
        "print(\"\\nComparison of Validation Accuracy as a Predictor of Test Accuracy:\")\n",
        "print(\"For the Nearest Neighbor classifier, validation accuracy is a poor predictor of test accuracy when the validation set is very small. It becomes a better predictor as the validation set size increases. For the Random Classifier, validation accuracy is a more consistent predictor of test accuracy across all validation set sizes, although the performance of the Random Classifier itself is much lower than the Nearest Neighbor.\")\n",
        "\n",
        "print(\"\\nSuggested Validation Set Percentage:\")\n",
        "print(\"Based on the analysis, a validation set percentage around 30% appears to be a good balance. At this percentage, the Nearest Neighbor validation accuracy is reasonably stable and provides a fair approximation of the test accuracy, while still leaving a substantial portion (70%) of the data for training the model effectively. For the Random Classifier, the split percentage has less impact on the validation accuracy's predictive power of test accuracy.\")"
      ],
      "execution_count": 23,
      "outputs": [
        {
          "output_type": "stream",
          "name": "stdout",
          "text": [
            "--- Analysis of Validation Set Size Impact ---\n",
            "\n",
            "Nearest Neighbor Classifier:\n",
            "As the validation set size increases from very small percentages (e.g., 0.1%) to larger percentages, the validation accuracy generally becomes more stable and tends to converge towards the test accuracy. At extremely small validation set sizes, the validation accuracy is highly volatile and not a reliable indicator of performance. At very large validation set sizes (e.g., 99.9%), the training set becomes very small, which might impact the model's learning ability, but the validation accuracy at these extremes still seems to approximate the test accuracy reasonably well based on the trend observed.\n",
            "\n",
            "Random Classifier:\n",
            "For the Random Classifier, the validation accuracy remains relatively consistent across the entire range of validation set percentages. It fluctuates slightly but does not show a clear trend of increasing or decreasing with validation set size. The validation accuracy for the Random Classifier is a relatively stable predictor of its test accuracy across most split percentages.\n",
            "\n",
            "Comparison of Validation Accuracy as a Predictor of Test Accuracy:\n",
            "For the Nearest Neighbor classifier, validation accuracy is a poor predictor of test accuracy when the validation set is very small. It becomes a better predictor as the validation set size increases. For the Random Classifier, validation accuracy is a more consistent predictor of test accuracy across all validation set sizes, although the performance of the Random Classifier itself is much lower than the Nearest Neighbor.\n",
            "\n",
            "Suggested Validation Set Percentage:\n",
            "Based on the analysis, a validation set percentage around 30% appears to be a good balance. At this percentage, the Nearest Neighbor validation accuracy is reasonably stable and provides a fair approximation of the test accuracy, while still leaving a substantial portion (70%) of the data for training the model effectively. For the Random Classifier, the split percentage has less impact on the validation accuracy's predictive power of test accuracy.\n"
          ]
        }
      ]
    },
    {
      "cell_type": "markdown",
      "source": [
        "**Multiple Splits**"
      ],
      "metadata": {
        "id": "vi0b-vw9eVzk"
      }
    },
    {
      "cell_type": "code",
      "source": [
        "def AverageAccuracy(alldata, alllabel, splitpercent, iterations, classifier=NN):\n",
        "\n",
        "    accuracy = 0\n",
        "    for ii in range(iterations):\n",
        "        traindata, trainlabel, valdata, vallabel = split(\n",
        "            alldata, alllabel, splitpercent\n",
        "        )\n",
        "        valpred = classifier(traindata, trainlabel, valdata)\n",
        "        accuracy += Accuracy(vallabel, valpred)\n",
        "    return accuracy / iterations"
      ],
      "metadata": {
        "id": "xZe-Wa-deUW_"
      },
      "execution_count": 25,
      "outputs": []
    },
    {
      "cell_type": "code",
      "source": [
        "avg_acc = AverageAccuracy(alltraindata, alltrainlabel, 75 / 100, 10, classifier=NN)\n",
        "print(\"Average validation accuracy:\", avg_acc*100, \"%\")\n",
        "testpred = NN(alltraindata, alltrainlabel, testdata)\n",
        "\n",
        "print(\"Test accuracy:\", Accuracy(testlabel, testpred)*100, \"%\")"
      ],
      "metadata": {
        "colab": {
          "base_uri": "https://localhost:8080/"
        },
        "id": "Azw6Qpenebqy",
        "outputId": "1a85d0c2-9f9e-4d2f-edde-9a611eb40c1a"
      },
      "execution_count": 26,
      "outputs": [
        {
          "output_type": "stream",
          "name": "stdout",
          "text": [
            "Average validation accuracy: 34.286259608948924 %\n",
            "Test accuracy: 34.91795366795367 %\n"
          ]
        }
      ]
    },
    {
      "cell_type": "markdown",
      "source": [
        "1.Does averaging the validation accuracy across multiple splits give more consistent results?\n",
        "\n",
        "Yes, averaging validation accuracy across multiple splits (like in cross-validation) gives more consistent results, because it reduces the effect of randomness from any single split"
      ],
      "metadata": {
        "id": "W7jX4Qx8fVat"
      }
    },
    {
      "cell_type": "markdown",
      "source": [
        "2.Does it give more accurate estimate of test accuracy?\n",
        "\n",
        "Yes, it gives a more accurate estimate of test accuracy, as it reflects how the model performs on different subsets of the data."
      ],
      "metadata": {
        "id": "yLLJGxYzfoci"
      }
    },
    {
      "cell_type": "markdown",
      "source": [
        "3.What is the effect of the number of iterations on the estimate? Do we get a better estimate with higher iterations?\n",
        "\n",
        "More iterations (splits) usually give a better estimate, because the model is tested on more data combinations. However, too many can be slow, and after a point, improvements become small"
      ],
      "metadata": {
        "id": "afoUnpnSfoY8"
      }
    },
    {
      "cell_type": "markdown",
      "source": [
        "4.Consider the results you got for the previous questions. Can we deal with a very small train dataset or validation dataset by increasing the iterations\n",
        "\n",
        "Yes, increasing iterations can help when the training or validation dataset is small. It makes better use of the limited data by repeatedly training and validating on different parts"
      ],
      "metadata": {
        "id": "vkbGkyFkfmHG"
      }
    }
  ]
}
